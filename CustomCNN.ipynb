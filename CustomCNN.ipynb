{
  "nbformat": 4,
  "nbformat_minor": 0,
  "metadata": {
    "colab": {
      "provenance": [],
      "gpuType": "T4"
    },
    "kernelspec": {
      "name": "python3",
      "display_name": "Python 3"
    },
    "language_info": {
      "name": "python"
    },
    "accelerator": "GPU"
  },
  "cells": [
    {
      "cell_type": "code",
      "execution_count": null,
      "metadata": {
        "colab": {
          "base_uri": "https://localhost:8080/"
        },
        "id": "SjlfHJ-ge_Yh",
        "outputId": "bf65a460-a046-4283-e723-ba01c3f8ac23"
      },
      "outputs": [
        {
          "output_type": "stream",
          "name": "stdout",
          "text": [
            "Cloning into 'FinalProject'...\n",
            "remote: Enumerating objects: 27793, done.\u001b[K\n",
            "remote: Counting objects: 100% (309/309), done.\u001b[K\n",
            "remote: Compressing objects: 100% (142/142), done.\u001b[K\n",
            "remote: Total 27793 (delta 173), reused 297 (delta 161), pack-reused 27484\u001b[K\n",
            "Receiving objects: 100% (27793/27793), 47.26 MiB | 24.33 MiB/s, done.\n",
            "Resolving deltas: 100% (177/177), done.\n",
            "Updating files: 100% (28320/28320), done.\n",
            "/content/FinalProject/project_1_dataset\n",
            "test  train\n"
          ]
        }
      ],
      "source": [
        "!git clone https://github.com/bakhbyergyen7/FinalProject.git\n",
        "%cd FinalProject/project_1_dataset\n",
        "!ls"
      ]
    },
    {
      "cell_type": "code",
      "source": [
        "from tensorflow.keras.preprocessing.image import ImageDataGenerator\n",
        "\n",
        "# # Set up data generators\n",
        "# train_datagen = ImageDataGenerator(\n",
        "#     rescale=1./255,\n",
        "#     rotation_range=20,\n",
        "#     width_shift_range=0.2,\n",
        "#     height_shift_range=0.2,\n",
        "#     shear_range=0.2,\n",
        "#     zoom_range=0.2,\n",
        "#     horizontal_flip=True,\n",
        "#     fill_mode='nearest',\n",
        "#     validation_split=0.2  # Reserve 20% of the data for test\n",
        "# )\n",
        "\n",
        "# test_datagen = ImageDataGenerator(rescale=1./255)  # Only rescale for testing"
      ],
      "metadata": {
        "id": "nLWQNd0Ng-tW"
      },
      "execution_count": null,
      "outputs": []
    },
    {
      "cell_type": "code",
      "source": [
        "# Define the directory for training data\n",
        "train_directory = 'train'\n",
        "from tensorflow.keras.layers import Dense, GlobalAveragePooling2D, Lambda, Input\n",
        "import tensorflow as tf\n",
        "\n",
        "# Load the training and validation data\n",
        "train_data = tf.keras.preprocessing.image_dataset_from_directory(\n",
        "    train_directory,\n",
        "    validation_split=0.2,  # Reserve 20% for validation\n",
        "    subset=\"training\",\n",
        "    seed=123,  # Seed for reproducibility\n",
        "    image_size=(48, 48),\n",
        "    batch_size=64,\n",
        "    color_mode='grayscale',  # Images are grayscale\n",
        "    label_mode='categorical'  # Labels are categorical\n",
        ")\n",
        "\n",
        "validation_data = tf.keras.preprocessing.image_dataset_from_directory(\n",
        "    train_directory,\n",
        "    validation_split=0.2, # Reserve 20% for validation\n",
        "    subset=\"validation\",\n",
        "    seed=123, # Seed for reproducibility\n",
        "    image_size=(48, 48),\n",
        "    batch_size=64,\n",
        "    color_mode='grayscale', # Images are grayscale\n",
        "    label_mode='categorical' # Labels are categorical\n",
        ")\n",
        "\n",
        "\n",
        "test_data = tf.keras.preprocessing.image_dataset_from_directory(\n",
        "    'test',\n",
        "    image_size=(48, 48),\n",
        "    batch_size=64,\n",
        "    color_mode='grayscale', # Images are grayscale\n",
        "    label_mode='categorical' # Labels are categorical\n",
        ")"
      ],
      "metadata": {
        "colab": {
          "base_uri": "https://localhost:8080/"
        },
        "id": "j84eX0u3iVOY",
        "outputId": "1a7a93b2-6b8c-4dcc-d16d-17e636d80f6c"
      },
      "execution_count": null,
      "outputs": [
        {
          "output_type": "stream",
          "name": "stdout",
          "text": [
            "Found 20634 files belonging to 7 classes.\n",
            "Using 16508 files for training.\n",
            "Found 20634 files belonging to 7 classes.\n",
            "Using 4126 files for validation.\n",
            "Found 5155 files belonging to 7 classes.\n"
          ]
        }
      ]
    },
    {
      "cell_type": "code",
      "source": [
        "# Define model\n",
        "import tensorflow as tf\n",
        "from tensorflow.keras.models import Sequential\n",
        "from tensorflow.keras.layers import BatchNormalization, Conv2D, MaxPooling2D, Flatten, Dense, Dropout\n",
        "from tensorflow.keras.callbacks import ModelCheckpoint, EarlyStopping, ReduceLROnPlateau\n",
        "\n",
        "model = Sequential([\n",
        "    Conv2D(64, (3, 3), activation='relu', input_shape=(48, 48, 1)),\n",
        "    BatchNormalization(),\n",
        "    MaxPooling2D(2, 2),\n",
        "    Conv2D(128, (3, 3), activation='relu'),\n",
        "    BatchNormalization(),\n",
        "    MaxPooling2D(2, 2),\n",
        "    Conv2D(256, (3, 3), activation='relu'),\n",
        "    BatchNormalization(),\n",
        "    MaxPooling2D(2, 2),\n",
        "    Flatten(),\n",
        "    Dropout(0.5),\n",
        "    Dense(512, activation='relu'),\n",
        "    Dropout(0.5),\n",
        "    BatchNormalization(),\n",
        "    Dense(7, activation='softmax')\n",
        "])\n",
        "\n",
        "# Set up the ModelCheckpoint callback to save the best model based on the validation accuracy\n",
        "model_checkpoint_callback = ModelCheckpoint(\n",
        "    'best_model.keras',  # Path where the model will be saved\n",
        "    save_best_only=True,  # Save only the best model\n",
        "    monitor='val_accuracy',  # Monitor validation accuracy\n",
        "    mode='max',  # Save the model with max validation accuracy\n",
        "    verbose=1\n",
        ")\n",
        "\n",
        "# Set up the EarlyStopping callback to stop training if no improvement in validation accuracy\n",
        "early_stopping_callback = EarlyStopping(\n",
        "    monitor='val_accuracy',  # Monitor validation accuracy\n",
        "    patience=8,  # Number of epochs with no improvement after which training will be stopped\n",
        "    restore_best_weights=True,  # Restore model weights from the epoch with the best value of the monitored quantity\n",
        "    verbose=1\n",
        ")\n",
        "\n",
        "# Set up the ReduceLROnPlateau callback to reduce the learning rate when the validation accuracy plateaus\n",
        "reduce_lr_callback = ReduceLROnPlateau(\n",
        "    monitor='val_accuracy',\n",
        "    factor=0.9,  # New learning rate will be lr * factor.\n",
        "    patience=2,  # Number of epochs with no improvement after which learning rate will be reduced.\n",
        "    min_lr=0.00001,  # Lower bound on the learning rate.\n",
        "    verbose=1\n",
        ")\n",
        "\n",
        "\n",
        "optimizer = tf.keras.optimizers.Adam(learning_rate=0.0001)\n",
        "model.compile(optimizer=optimizer, loss='categorical_crossentropy', metrics=['accuracy'])\n"
      ],
      "metadata": {
        "id": "_dgx73bzhW6i"
      },
      "execution_count": null,
      "outputs": []
    },
    {
      "cell_type": "code",
      "source": [
        "# Train model\n",
        "history = model.fit(\n",
        "    train_data,\n",
        "    epochs=50,\n",
        "    validation_data=validation_data,  # Use the validation data generator here\n",
        "    callbacks=[\n",
        "        model_checkpoint_callback,\n",
        "        early_stopping_callback,\n",
        "        reduce_lr_callback\n",
        "    ]\n",
        ")"
      ],
      "metadata": {
        "colab": {
          "base_uri": "https://localhost:8080/"
        },
        "id": "65c4KB1ThbNa",
        "outputId": "b84d92a9-ca6a-4336-b6c7-b353e6eeec28"
      },
      "execution_count": null,
      "outputs": [
        {
          "output_type": "stream",
          "name": "stdout",
          "text": [
            "Epoch 1/50\n",
            "258/258 [==============================] - ETA: 0s - loss: 2.2548 - accuracy: 0.2427\n",
            "Epoch 1: val_accuracy improved from -inf to 0.39433, saving model to best_model.keras\n",
            "258/258 [==============================] - 15s 24ms/step - loss: 2.2548 - accuracy: 0.2427 - val_loss: 1.6593 - val_accuracy: 0.3943 - lr: 1.0000e-04\n",
            "Epoch 2/50\n",
            "256/258 [============================>.] - ETA: 0s - loss: 1.9558 - accuracy: 0.3362\n",
            "Epoch 2: val_accuracy improved from 0.39433 to 0.44304, saving model to best_model.keras\n",
            "258/258 [==============================] - 5s 19ms/step - loss: 1.9575 - accuracy: 0.3357 - val_loss: 1.5235 - val_accuracy: 0.4430 - lr: 1.0000e-04\n",
            "Epoch 3/50\n",
            "256/258 [============================>.] - ETA: 0s - loss: 1.7962 - accuracy: 0.3752\n",
            "Epoch 3: val_accuracy improved from 0.44304 to 0.45371, saving model to best_model.keras\n",
            "258/258 [==============================] - 5s 18ms/step - loss: 1.7967 - accuracy: 0.3749 - val_loss: 1.4623 - val_accuracy: 0.4537 - lr: 1.0000e-04\n",
            "Epoch 4/50\n",
            "256/258 [============================>.] - ETA: 0s - loss: 1.6652 - accuracy: 0.4133\n",
            "Epoch 4: val_accuracy improved from 0.45371 to 0.47455, saving model to best_model.keras\n",
            "258/258 [==============================] - 6s 22ms/step - loss: 1.6645 - accuracy: 0.4136 - val_loss: 1.4135 - val_accuracy: 0.4746 - lr: 1.0000e-04\n",
            "Epoch 5/50\n",
            "257/258 [============================>.] - ETA: 0s - loss: 1.5863 - accuracy: 0.4332\n",
            "Epoch 5: val_accuracy improved from 0.47455 to 0.48570, saving model to best_model.keras\n",
            "258/258 [==============================] - 5s 18ms/step - loss: 1.5866 - accuracy: 0.4330 - val_loss: 1.3804 - val_accuracy: 0.4857 - lr: 1.0000e-04\n",
            "Epoch 6/50\n",
            "257/258 [============================>.] - ETA: 0s - loss: 1.5050 - accuracy: 0.4613\n",
            "Epoch 6: val_accuracy improved from 0.48570 to 0.49443, saving model to best_model.keras\n",
            "258/258 [==============================] - 5s 21ms/step - loss: 1.5046 - accuracy: 0.4614 - val_loss: 1.3515 - val_accuracy: 0.4944 - lr: 1.0000e-04\n",
            "Epoch 7/50\n",
            "256/258 [============================>.] - ETA: 0s - loss: 1.4336 - accuracy: 0.4772\n",
            "Epoch 7: val_accuracy improved from 0.49443 to 0.49782, saving model to best_model.keras\n",
            "258/258 [==============================] - 5s 21ms/step - loss: 1.4326 - accuracy: 0.4776 - val_loss: 1.3331 - val_accuracy: 0.4978 - lr: 1.0000e-04\n",
            "Epoch 8/50\n",
            "258/258 [==============================] - ETA: 0s - loss: 1.3737 - accuracy: 0.4986\n",
            "Epoch 8: val_accuracy improved from 0.49782 to 0.51212, saving model to best_model.keras\n",
            "258/258 [==============================] - 5s 18ms/step - loss: 1.3737 - accuracy: 0.4986 - val_loss: 1.3073 - val_accuracy: 0.5121 - lr: 1.0000e-04\n",
            "Epoch 9/50\n",
            "258/258 [==============================] - ETA: 0s - loss: 1.3277 - accuracy: 0.5117\n",
            "Epoch 9: val_accuracy did not improve from 0.51212\n",
            "258/258 [==============================] - 6s 22ms/step - loss: 1.3277 - accuracy: 0.5117 - val_loss: 1.2870 - val_accuracy: 0.5095 - lr: 1.0000e-04\n",
            "Epoch 10/50\n",
            "258/258 [==============================] - ETA: 0s - loss: 1.2715 - accuracy: 0.5307\n",
            "Epoch 10: val_accuracy improved from 0.51212 to 0.52690, saving model to best_model.keras\n",
            "258/258 [==============================] - 5s 18ms/step - loss: 1.2715 - accuracy: 0.5307 - val_loss: 1.2635 - val_accuracy: 0.5269 - lr: 1.0000e-04\n",
            "Epoch 11/50\n",
            "255/258 [============================>.] - ETA: 0s - loss: 1.2241 - accuracy: 0.5442\n",
            "Epoch 11: val_accuracy improved from 0.52690 to 0.53490, saving model to best_model.keras\n",
            "258/258 [==============================] - 6s 21ms/step - loss: 1.2247 - accuracy: 0.5437 - val_loss: 1.2482 - val_accuracy: 0.5349 - lr: 1.0000e-04\n",
            "Epoch 12/50\n",
            "256/258 [============================>.] - ETA: 0s - loss: 1.1685 - accuracy: 0.5661\n",
            "Epoch 12: val_accuracy improved from 0.53490 to 0.54775, saving model to best_model.keras\n",
            "258/258 [==============================] - 5s 18ms/step - loss: 1.1690 - accuracy: 0.5660 - val_loss: 1.2311 - val_accuracy: 0.5477 - lr: 1.0000e-04\n",
            "Epoch 13/50\n",
            "257/258 [============================>.] - ETA: 0s - loss: 1.1270 - accuracy: 0.5781\n",
            "Epoch 13: val_accuracy did not improve from 0.54775\n",
            "258/258 [==============================] - 4s 17ms/step - loss: 1.1274 - accuracy: 0.5781 - val_loss: 1.2266 - val_accuracy: 0.5441 - lr: 1.0000e-04\n",
            "Epoch 14/50\n",
            "258/258 [==============================] - ETA: 0s - loss: 1.1017 - accuracy: 0.5929\n",
            "Epoch 14: val_accuracy improved from 0.54775 to 0.54968, saving model to best_model.keras\n",
            "258/258 [==============================] - 6s 23ms/step - loss: 1.1017 - accuracy: 0.5929 - val_loss: 1.2177 - val_accuracy: 0.5497 - lr: 1.0000e-04\n",
            "Epoch 15/50\n",
            "256/258 [============================>.] - ETA: 0s - loss: 1.0478 - accuracy: 0.6108\n",
            "Epoch 15: val_accuracy improved from 0.54968 to 0.55744, saving model to best_model.keras\n",
            "258/258 [==============================] - 6s 22ms/step - loss: 1.0479 - accuracy: 0.6108 - val_loss: 1.2162 - val_accuracy: 0.5574 - lr: 1.0000e-04\n",
            "Epoch 16/50\n",
            "258/258 [==============================] - ETA: 0s - loss: 1.0141 - accuracy: 0.6250\n",
            "Epoch 16: val_accuracy improved from 0.55744 to 0.55914, saving model to best_model.keras\n",
            "258/258 [==============================] - 5s 18ms/step - loss: 1.0141 - accuracy: 0.6250 - val_loss: 1.2070 - val_accuracy: 0.5591 - lr: 1.0000e-04\n",
            "Epoch 17/50\n",
            "256/258 [============================>.] - ETA: 0s - loss: 0.9807 - accuracy: 0.6348\n",
            "Epoch 17: val_accuracy did not improve from 0.55914\n",
            "258/258 [==============================] - 5s 17ms/step - loss: 0.9801 - accuracy: 0.6348 - val_loss: 1.1956 - val_accuracy: 0.5567 - lr: 1.0000e-04\n",
            "Epoch 18/50\n",
            "257/258 [============================>.] - ETA: 0s - loss: 0.9424 - accuracy: 0.6527\n",
            "Epoch 18: val_accuracy improved from 0.55914 to 0.56326, saving model to best_model.keras\n",
            "258/258 [==============================] - 6s 23ms/step - loss: 0.9420 - accuracy: 0.6529 - val_loss: 1.1821 - val_accuracy: 0.5633 - lr: 1.0000e-04\n",
            "Epoch 19/50\n",
            "257/258 [============================>.] - ETA: 0s - loss: 0.8953 - accuracy: 0.6703\n",
            "Epoch 19: val_accuracy improved from 0.56326 to 0.56689, saving model to best_model.keras\n",
            "258/258 [==============================] - 5s 18ms/step - loss: 0.8952 - accuracy: 0.6704 - val_loss: 1.1834 - val_accuracy: 0.5669 - lr: 1.0000e-04\n",
            "Epoch 20/50\n",
            "256/258 [============================>.] - ETA: 0s - loss: 0.8785 - accuracy: 0.6730\n",
            "Epoch 20: val_accuracy did not improve from 0.56689\n",
            "258/258 [==============================] - 6s 22ms/step - loss: 0.8779 - accuracy: 0.6734 - val_loss: 1.1877 - val_accuracy: 0.5637 - lr: 1.0000e-04\n",
            "Epoch 21/50\n",
            "257/258 [============================>.] - ETA: 0s - loss: 0.8388 - accuracy: 0.6909\n",
            "Epoch 21: val_accuracy did not improve from 0.56689\n",
            "\n",
            "Epoch 21: ReduceLROnPlateau reducing learning rate to 8.999999772640876e-05.\n",
            "258/258 [==============================] - 4s 17ms/step - loss: 0.8386 - accuracy: 0.6909 - val_loss: 1.1924 - val_accuracy: 0.5625 - lr: 1.0000e-04\n",
            "Epoch 22/50\n",
            "256/258 [============================>.] - ETA: 0s - loss: 0.8010 - accuracy: 0.7055\n",
            "Epoch 22: val_accuracy improved from 0.56689 to 0.56786, saving model to best_model.keras\n",
            "258/258 [==============================] - 5s 18ms/step - loss: 0.8001 - accuracy: 0.7061 - val_loss: 1.1854 - val_accuracy: 0.5679 - lr: 9.0000e-05\n",
            "Epoch 23/50\n",
            "255/258 [============================>.] - ETA: 0s - loss: 0.7609 - accuracy: 0.7213\n",
            "Epoch 23: val_accuracy did not improve from 0.56786\n",
            "258/258 [==============================] - 6s 24ms/step - loss: 0.7608 - accuracy: 0.7211 - val_loss: 1.1900 - val_accuracy: 0.5596 - lr: 9.0000e-05\n",
            "Epoch 24/50\n",
            "257/258 [============================>.] - ETA: 0s - loss: 0.7281 - accuracy: 0.7372\n",
            "Epoch 24: val_accuracy improved from 0.56786 to 0.57416, saving model to best_model.keras\n",
            "258/258 [==============================] - 5s 19ms/step - loss: 0.7280 - accuracy: 0.7371 - val_loss: 1.1731 - val_accuracy: 0.5742 - lr: 9.0000e-05\n",
            "Epoch 25/50\n",
            "255/258 [============================>.] - ETA: 0s - loss: 0.7169 - accuracy: 0.7347\n",
            "Epoch 25: val_accuracy did not improve from 0.57416\n",
            "258/258 [==============================] - 6s 21ms/step - loss: 0.7167 - accuracy: 0.7348 - val_loss: 1.1893 - val_accuracy: 0.5633 - lr: 9.0000e-05\n",
            "Epoch 26/50\n",
            "256/258 [============================>.] - ETA: 0s - loss: 0.6747 - accuracy: 0.7556\n",
            "Epoch 26: val_accuracy did not improve from 0.57416\n",
            "\n",
            "Epoch 26: ReduceLROnPlateau reducing learning rate to 8.100000122794882e-05.\n",
            "258/258 [==============================] - 6s 24ms/step - loss: 0.6745 - accuracy: 0.7557 - val_loss: 1.1860 - val_accuracy: 0.5683 - lr: 9.0000e-05\n",
            "Epoch 27/50\n",
            "256/258 [============================>.] - ETA: 0s - loss: 0.6396 - accuracy: 0.7679\n",
            "Epoch 27: val_accuracy did not improve from 0.57416\n",
            "258/258 [==============================] - 5s 18ms/step - loss: 0.6396 - accuracy: 0.7677 - val_loss: 1.1832 - val_accuracy: 0.5717 - lr: 8.1000e-05\n",
            "Epoch 28/50\n",
            "257/258 [============================>.] - ETA: 0s - loss: 0.6094 - accuracy: 0.7783\n",
            "Epoch 28: val_accuracy did not improve from 0.57416\n",
            "\n",
            "Epoch 28: ReduceLROnPlateau reducing learning rate to 7.289999848580919e-05.\n",
            "258/258 [==============================] - 5s 21ms/step - loss: 0.6093 - accuracy: 0.7783 - val_loss: 1.1990 - val_accuracy: 0.5650 - lr: 8.1000e-05\n",
            "Epoch 29/50\n",
            "256/258 [============================>.] - ETA: 0s - loss: 0.5821 - accuracy: 0.7929\n",
            "Epoch 29: val_accuracy did not improve from 0.57416\n",
            "258/258 [==============================] - 5s 20ms/step - loss: 0.5823 - accuracy: 0.7930 - val_loss: 1.1946 - val_accuracy: 0.5739 - lr: 7.2900e-05\n",
            "Epoch 30/50\n",
            "258/258 [==============================] - ETA: 0s - loss: 0.5609 - accuracy: 0.8014\n",
            "Epoch 30: val_accuracy did not improve from 0.57416\n",
            "\n",
            "Epoch 30: ReduceLROnPlateau reducing learning rate to 6.56100019114092e-05.\n",
            "258/258 [==============================] - 6s 23ms/step - loss: 0.5609 - accuracy: 0.8014 - val_loss: 1.1914 - val_accuracy: 0.5734 - lr: 7.2900e-05\n",
            "Epoch 31/50\n",
            "257/258 [============================>.] - ETA: 0s - loss: 0.5441 - accuracy: 0.8047\n",
            "Epoch 31: val_accuracy did not improve from 0.57416\n",
            "258/258 [==============================] - 5s 18ms/step - loss: 0.5440 - accuracy: 0.8046 - val_loss: 1.2025 - val_accuracy: 0.5688 - lr: 6.5610e-05\n",
            "Epoch 32/50\n",
            "258/258 [==============================] - ETA: 0s - loss: 0.5017 - accuracy: 0.8234\n",
            "Epoch 32: val_accuracy improved from 0.57416 to 0.58119, saving model to best_model.keras\n",
            "258/258 [==============================] - 5s 21ms/step - loss: 0.5017 - accuracy: 0.8234 - val_loss: 1.2029 - val_accuracy: 0.5812 - lr: 6.5610e-05\n",
            "Epoch 33/50\n",
            "256/258 [============================>.] - ETA: 0s - loss: 0.4835 - accuracy: 0.8289\n",
            "Epoch 33: val_accuracy did not improve from 0.58119\n",
            "258/258 [==============================] - 5s 18ms/step - loss: 0.4831 - accuracy: 0.8292 - val_loss: 1.2098 - val_accuracy: 0.5776 - lr: 6.5610e-05\n",
            "Epoch 34/50\n",
            "257/258 [============================>.] - ETA: 0s - loss: 0.4681 - accuracy: 0.8376\n",
            "Epoch 34: val_accuracy did not improve from 0.58119\n",
            "\n",
            "Epoch 34: ReduceLROnPlateau reducing learning rate to 5.904900172026828e-05.\n",
            "258/258 [==============================] - 6s 22ms/step - loss: 0.4687 - accuracy: 0.8375 - val_loss: 1.2202 - val_accuracy: 0.5713 - lr: 6.5610e-05\n",
            "Epoch 35/50\n",
            "258/258 [==============================] - ETA: 0s - loss: 0.4451 - accuracy: 0.8455\n",
            "Epoch 35: val_accuracy did not improve from 0.58119\n",
            "258/258 [==============================] - 4s 17ms/step - loss: 0.4451 - accuracy: 0.8455 - val_loss: 1.2316 - val_accuracy: 0.5703 - lr: 5.9049e-05\n",
            "Epoch 36/50\n",
            "255/258 [============================>.] - ETA: 0s - loss: 0.4296 - accuracy: 0.8474\n",
            "Epoch 36: val_accuracy did not improve from 0.58119\n",
            "\n",
            "Epoch 36: ReduceLROnPlateau reducing learning rate to 5.314410154824145e-05.\n",
            "258/258 [==============================] - 5s 20ms/step - loss: 0.4295 - accuracy: 0.8474 - val_loss: 1.2250 - val_accuracy: 0.5756 - lr: 5.9049e-05\n",
            "Epoch 37/50\n",
            "257/258 [============================>.] - ETA: 0s - loss: 0.4148 - accuracy: 0.8545\n",
            "Epoch 37: val_accuracy did not improve from 0.58119\n",
            "258/258 [==============================] - 5s 19ms/step - loss: 0.4145 - accuracy: 0.8547 - val_loss: 1.2300 - val_accuracy: 0.5710 - lr: 5.3144e-05\n",
            "Epoch 38/50\n",
            "256/258 [============================>.] - ETA: 0s - loss: 0.3864 - accuracy: 0.8669\n",
            "Epoch 38: val_accuracy did not improve from 0.58119\n",
            "\n",
            "Epoch 38: ReduceLROnPlateau reducing learning rate to 4.7829690083744934e-05.\n",
            "258/258 [==============================] - 4s 17ms/step - loss: 0.3869 - accuracy: 0.8667 - val_loss: 1.2348 - val_accuracy: 0.5739 - lr: 5.3144e-05\n",
            "Epoch 39/50\n",
            "257/258 [============================>.] - ETA: 0s - loss: 0.3843 - accuracy: 0.8656\n",
            "Epoch 39: val_accuracy did not improve from 0.58119\n",
            "258/258 [==============================] - 6s 21ms/step - loss: 0.3841 - accuracy: 0.8658 - val_loss: 1.2357 - val_accuracy: 0.5742 - lr: 4.7830e-05\n",
            "Epoch 40/50\n",
            "255/258 [============================>.] - ETA: 0s - loss: 0.3690 - accuracy: 0.8732\n",
            "Epoch 40: val_accuracy did not improve from 0.58119\n",
            "Restoring model weights from the end of the best epoch: 32.\n",
            "\n",
            "Epoch 40: ReduceLROnPlateau reducing learning rate to 4.304672074795235e-05.\n",
            "258/258 [==============================] - 5s 18ms/step - loss: 0.3681 - accuracy: 0.8736 - val_loss: 1.2462 - val_accuracy: 0.5742 - lr: 4.7830e-05\n",
            "Epoch 40: early stopping\n"
          ]
        }
      ]
    },
    {
      "cell_type": "code",
      "source": [
        "# Evaluate the model on the test data\n",
        "evaluation = model.evaluate(test_data)\n",
        "print(\"Test Loss:\", evaluation[0], \"Test Accuracy:\", evaluation[1])"
      ],
      "metadata": {
        "colab": {
          "base_uri": "https://localhost:8080/"
        },
        "id": "SJwdprQ96Kjs",
        "outputId": "4550d27c-663c-4e28-e1d2-3a14fe79b1ae"
      },
      "execution_count": null,
      "outputs": [
        {
          "output_type": "stream",
          "name": "stdout",
          "text": [
            "81/81 [==============================] - 1s 11ms/step - loss: 1.1997 - accuracy: 0.5738\n",
            "Test Loss: 1.199652910232544 Test Accuracy: 0.5738118290901184\n"
          ]
        }
      ]
    },
    {
      "cell_type": "code",
      "source": [
        "import numpy as np\n",
        "from tensorflow.keras.models import load_model\n",
        "from tensorflow.keras.preprocessing import image\n",
        "from tensorflow.keras.preprocessing.image import ImageDataGenerator\n",
        "\n",
        "\n",
        "test_datagen = ImageDataGenerator(rescale=1.0/255.0)\n",
        "test_generator = test_datagen.flow_from_directory(\"test\",\n",
        "                                                    target_size=(48, 48),\n",
        "                                                    color_mode=\"grayscale\",\n",
        "                                                    batch_size=64,\n",
        "                                                    seed=7,\n",
        "                                                    shuffle=False,\n",
        "                                                    class_mode=\"categorical\"\n",
        "                                                    )\n",
        "\n",
        "import os\n",
        "class_names = [item for item in os.listdir(\"test\") if os.path.isdir(os.path.join(\"test\", item))]\n",
        "nb_test_samples = test_generator.samples\n",
        "nb_classes = len(class_names)\n",
        "print(nb_test_samples)\n",
        "print(nb_classes)"
      ],
      "metadata": {
        "colab": {
          "base_uri": "https://localhost:8080/"
        },
        "id": "JvRTcQ-WHrux",
        "outputId": "3030ae05-0bc7-4aa9-da87-5cbeb9de0969"
      },
      "execution_count": null,
      "outputs": [
        {
          "output_type": "stream",
          "name": "stdout",
          "text": [
            "Found 5155 images belonging to 7 classes.\n",
            "5155\n",
            "7\n"
          ]
        }
      ]
    },
    {
      "cell_type": "code",
      "source": [
        "output = model.predict(test_generator)\n",
        "y_classes = output.argmax(axis=1)\n",
        "result = sum(y_classes==test_generator.classes)/nb_test_samples*100\n",
        "print(result)"
      ],
      "metadata": {
        "colab": {
          "base_uri": "https://localhost:8080/"
        },
        "id": "a6Clkiw-ISx_",
        "outputId": "929f45ce-6175-4bae-8698-3c3776e22dc8"
      },
      "execution_count": null,
      "outputs": [
        {
          "output_type": "stream",
          "name": "stdout",
          "text": [
            "81/81 [==============================] - 2s 27ms/step\n",
            "14.374393792434528\n"
          ]
        }
      ]
    },
    {
      "cell_type": "code",
      "source": [
        "y_pred = np.argmax(model.predict(test_generator), axis=1)\n",
        "y_true = test_generator.classes"
      ],
      "metadata": {
        "colab": {
          "base_uri": "https://localhost:8080/"
        },
        "id": "C8o6X0ikIBjZ",
        "outputId": "dfa5bacf-98d1-4f9f-c817-8a24b6c6221c"
      },
      "execution_count": null,
      "outputs": [
        {
          "output_type": "stream",
          "name": "stdout",
          "text": [
            "81/81 [==============================] - 2s 24ms/step\n"
          ]
        }
      ]
    },
    {
      "cell_type": "code",
      "source": [
        "from sklearn.metrics import precision_score, recall_score, f1_score, classification_report\n",
        "import matplotlib.pyplot as plt\n",
        "# Classification report\n",
        "class_labels = list(test_generator.class_indices.keys())\n",
        "print(\"\\nClassification Report for Custom CNN:\\n\", classification_report(test_generator.classes, y_classes, target_names=class_labels))\n",
        "\n",
        "f1 = f1_score(test_generator.classes, y_classes, average='weighted')\n",
        "precision = precision_score(test_generator.classes,y_classes, average='weighted')\n",
        "recall = recall_score(test_generator.classes, y_classes, average='weighted')\n",
        "\n",
        "labels = ['F1 Score', 'Precision', 'Recall']\n",
        "scores = [f1, precision, recall]\n",
        "\n",
        "plt.bar(labels, scores, color=['blue', 'green', 'red'])\n",
        "plt.xlabel('Metrics')\n",
        "plt.ylabel('Score')\n",
        "plt.title('Performance Metrics')\n",
        "plt.show()"
      ],
      "metadata": {
        "colab": {
          "base_uri": "https://localhost:8080/",
          "height": 930
        },
        "id": "Bzr172PAIG_B",
        "outputId": "0db7ebd6-fdcd-471a-aa20-c860915401ae"
      },
      "execution_count": null,
      "outputs": [
        {
          "output_type": "stream",
          "name": "stderr",
          "text": [
            "/usr/local/lib/python3.10/dist-packages/sklearn/metrics/_classification.py:1344: UndefinedMetricWarning: Precision and F-score are ill-defined and being set to 0.0 in labels with no predicted samples. Use `zero_division` parameter to control this behavior.\n",
            "  _warn_prf(average, modifier, msg_start, len(result))\n",
            "/usr/local/lib/python3.10/dist-packages/sklearn/metrics/_classification.py:1344: UndefinedMetricWarning: Precision and F-score are ill-defined and being set to 0.0 in labels with no predicted samples. Use `zero_division` parameter to control this behavior.\n",
            "  _warn_prf(average, modifier, msg_start, len(result))\n",
            "/usr/local/lib/python3.10/dist-packages/sklearn/metrics/_classification.py:1344: UndefinedMetricWarning: Precision and F-score are ill-defined and being set to 0.0 in labels with no predicted samples. Use `zero_division` parameter to control this behavior.\n",
            "  _warn_prf(average, modifier, msg_start, len(result))\n",
            "/usr/local/lib/python3.10/dist-packages/sklearn/metrics/_classification.py:1344: UndefinedMetricWarning: Precision is ill-defined and being set to 0.0 in labels with no predicted samples. Use `zero_division` parameter to control this behavior.\n",
            "  _warn_prf(average, modifier, msg_start, len(result))\n"
          ]
        },
        {
          "output_type": "stream",
          "name": "stdout",
          "text": [
            "\n",
            "Classification Report for Custom CNN:\n",
            "               precision    recall  f1-score   support\n",
            "\n",
            "       angry       0.00      0.00      0.00       727\n",
            "     disgust       0.00      0.00      0.00        78\n",
            "        fear       0.00      0.00      0.00       721\n",
            "       happy       0.00      0.00      0.00      1348\n",
            "     neutral       0.00      0.00      0.00       962\n",
            "         sad       0.14      1.00      0.25       741\n",
            "    surprise       0.00      0.00      0.00       578\n",
            "\n",
            "    accuracy                           0.14      5155\n",
            "   macro avg       0.02      0.14      0.04      5155\n",
            "weighted avg       0.02      0.14      0.04      5155\n",
            "\n"
          ]
        },
        {
          "output_type": "display_data",
          "data": {
            "text/plain": [
              "<Figure size 640x480 with 1 Axes>"
            ],
            "image/png": "[encoded data removed]"
          },
          "metadata": {}
        }
      ]
    },
    {
      "cell_type": "code",
      "source": [
        "import matplotlib.pyplot as plt\n",
        "\n",
        "loss = history.history['loss']\n",
        "val_loss = history.history['val_loss']\n",
        "accuracy = history.history['accuracy']\n",
        "val_accuracy = history.history['val_accuracy']\n",
        "\n",
        "# Plot training & validation accuracy values\n",
        "plt.figure(figsize=(10, 4))\n",
        "plt.subplot(1, 3, 1)\n",
        "plt.plot(accuracy)\n",
        "plt.plot(val_accuracy)\n",
        "plt.title('Model Accuracy')\n",
        "plt.ylabel('Accuracy')\n",
        "plt.xlabel('Epoch')\n",
        "plt.legend(['Train', 'Val'], loc='upper left')\n",
        "\n",
        "# Plot training & validation loss values\n",
        "plt.subplot(1, 3, 2)\n",
        "plt.plot(loss)\n",
        "plt.plot(val_loss)\n",
        "plt.title('Model Loss')\n",
        "plt.ylabel('Loss')\n",
        "plt.xlabel('Epoch')\n",
        "plt.legend(['Train', 'Val'], loc='upper left')\n",
        "\n",
        "plt.show()"
      ],
      "metadata": {
        "colab": {
          "base_uri": "https://localhost:8080/",
          "height": 410
        },
        "id": "mvnOk9pkhdKo",
        "outputId": "0882bd65-be1e-4e70-fd7d-fad8f821f929"
      },
      "execution_count": null,
      "outputs": [
        {
          "output_type": "display_data",
          "data": {
            "text/plain": [
              "<Figure size 1000x400 with 2 Axes>"
            ],
            "image/png": "[encoded data removed]"
          },
          "metadata": {}
        }
      ]
    },
    {
      "cell_type": "code",
      "source": [
        "test_generator = ImageDataGenerator()\n",
        "\n",
        "test_loss, test_accuracy = model.evaluate(test_generator)\n",
        "print(f\"Test Accuracy: {test_accuracy*100:.2f}%\")"
      ],
      "metadata": {
        "colab": {
          "base_uri": "https://localhost:8080/",
          "height": 164
        },
        "id": "EUEux-4rhfS1",
        "outputId": "d4dfecaa-6488-4429-a934-91583b34b1c4"
      },
      "execution_count": null,
      "outputs": [
        {
          "output_type": "error",
          "ename": "NameError",
          "evalue": "name 'test_generator' is not defined",
          "traceback": [
            "\u001b[0;31m---------------------------------------------------------------------------\u001b[0m",
            "\u001b[0;31mNameError\u001b[0m                                 Traceback (most recent call last)",
            "\u001b[0;32m<ipython-input-12-c47a05796bf9>\u001b[0m in \u001b[0;36m<cell line: 1>\u001b[0;34m()\u001b[0m\n\u001b[0;32m----> 1\u001b[0;31m \u001b[0mtest_loss\u001b[0m\u001b[0;34m,\u001b[0m \u001b[0mtest_accuracy\u001b[0m \u001b[0;34m=\u001b[0m \u001b[0mmodel\u001b[0m\u001b[0;34m.\u001b[0m\u001b[0mevaluate\u001b[0m\u001b[0;34m(\u001b[0m\u001b[0mtest_generator\u001b[0m\u001b[0;34m)\u001b[0m\u001b[0;34m\u001b[0m\u001b[0;34m\u001b[0m\u001b[0m\n\u001b[0m\u001b[1;32m      2\u001b[0m \u001b[0mprint\u001b[0m\u001b[0;34m(\u001b[0m\u001b[0;34mf\"Test Accuracy: {test_accuracy*100:.2f}%\"\u001b[0m\u001b[0;34m)\u001b[0m\u001b[0;34m\u001b[0m\u001b[0;34m\u001b[0m\u001b[0m\n",
            "\u001b[0;31mNameError\u001b[0m: name 'test_generator' is not defined"
          ]
        }
      ]
    },
    {
      "cell_type": "code",
      "source": [
        "import matplotlib.pyplot as plt\n",
        "\n",
        "plt.figure(figsize=(12, 5))\n",
        "plt.subplot(1, 2, 1)\n",
        "plt.plot(history.history['accuracy'], label='Training Accuracy')\n",
        "plt.plot(history.history['val_accuracy'], label='Validation Accuracy')\n",
        "plt.title('Accuracy Over Epochs')\n",
        "plt.legend()\n",
        "\n",
        "plt.subplot(1, 2, 2)\n",
        "plt.plot(history.history['loss'], label='Training Loss')\n",
        "plt.plot(history.history['val_loss'], label='Validation Loss')\n",
        "plt.title('Loss Over Epochs')\n",
        "plt.legend()\n",
        "\n",
        "plt.show()\n"
      ],
      "metadata": {
        "id": "yaMNz5Wshh2f"
      },
      "execution_count": null,
      "outputs": []
    }
  ]
}